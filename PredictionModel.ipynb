{
 "cells": [
  {
   "cell_type": "markdown",
   "metadata": {},
   "source": [
    "# Create a model for learning the dynamics"
   ]
  },
  {
   "cell_type": "markdown",
   "metadata": {},
   "source": [
    "## Import div stuff"
   ]
  },
  {
   "cell_type": "code",
   "execution_count": 74,
   "metadata": {},
   "outputs": [],
   "source": [
    "from dnn import Net\n",
    "import numpy as np\n",
    "import torch\n",
    "import torch.nn as nn\n",
    "import pickle\n",
    "import matplotlib.pyplot as plt\n",
    "from sklearn.model_selection import train_test_split"
   ]
  },
  {
   "cell_type": "markdown",
   "metadata": {},
   "source": [
    "## Load data and create datasets\n",
    "\n",
    "The dataset is split into X and Y, where X are the \"current\" states of the aluminium-plant and the inputs applies, and Y is the state at next time-step. "
   ]
  },
  {
   "cell_type": "code",
   "execution_count": 75,
   "metadata": {},
   "outputs": [],
   "source": [
    "num_states = 8\n",
    "num_inputs = 5\n",
    "\n",
    "batch_size = 4\n",
    "\n",
    "with open(\"PBM_simulation_data.pickle\", \"rb\") as handle:\n",
    "    data = pickle.load(handle)\n",
    "\n",
    "data = data.reshape((-1, 13))\n",
    "data /= np.mean(data.numpy(), axis=0) # Zero-mean data\n",
    "X = data[:-1]\n",
    "y = data[1:, :num_states]\n",
    "\n",
    "X_train, X_test, y_train, y_test = train_test_split(X, y, train_size=0.75, shuffle=True)\n",
    "\n",
    "train_loader_x = iter(torch.utils.data.DataLoader(\n",
    "    X_train, batch_size=batch_size, shuffle=False, num_workers=2\n",
    "))\n",
    "train_loader_y = iter(torch.utils.data.DataLoader(\n",
    "    y_train, batch_size=batch_size, shuffle=False, num_workers=2\n",
    "))\n",
    "test_loader_x = iter(torch.utils.data.DataLoader(\n",
    "    X_test, batch_size=batch_size, shuffle=False, num_workers=2\n",
    "))\n",
    "test_loader_y = iter(torch.utils.data.DataLoader(\n",
    "    y_test, batch_size=batch_size, shuffle=False, num_workers=2\n",
    "))\n"
   ]
  },
  {
   "cell_type": "markdown",
   "metadata": {},
   "source": [
    "## Training"
   ]
  },
  {
   "cell_type": "code",
   "execution_count": 76,
   "metadata": {},
   "outputs": [],
   "source": [
    "epochs = 100000\n",
    "model = Net(num_states, num_inputs)\n",
    "losses = []\n",
    "\n",
    "for epoch in range(epochs):\n",
    "    x = train_loader_x.next().to(model.device)\n",
    "    y = train_loader_y.next().to(model.device)\n",
    "    \n",
    "    pred = model.forward(x)\n",
    "    loss = nn.functional.mse_loss(pred, y)\n",
    "    model.optimizer.zero_grad()\n",
    "    loss.backward()\n",
    "    model.optimizer.step()\n",
    "    losses.append(float(loss.cpu().detach().numpy()))"
   ]
  },
  {
   "cell_type": "code",
   "execution_count": 77,
   "metadata": {},
   "outputs": [
    {
     "data": {
      "text/plain": [
       "(0.0, 5.0)"
      ]
     },
     "execution_count": 77,
     "metadata": {},
     "output_type": "execute_result"
    },
    {
     "data": {
      "image/png": "[encoded data removed]",
      "text/plain": [
       "<Figure size 640x480 with 1 Axes>"
      ]
     },
     "metadata": {},
     "output_type": "display_data"
    }
   ],
   "source": [
    "plt.figure(\"Loss\")\n",
    "plt.plot(range(len(losses)), losses)\n",
    "plt.title(\"Loss\")\n",
    "plt.ylim((0, 5))"
   ]
  },
  {
   "cell_type": "markdown",
   "metadata": {},
   "source": [
    "## Test on test set"
   ]
  },
  {
   "cell_type": "code",
   "execution_count": 78,
   "metadata": {},
   "outputs": [
    {
     "name": "stdout",
     "output_type": "stream",
     "text": [
      "Correct: 247249\n",
      "Total: 250000\n",
      "Accuracy: 0.988996\n"
     ]
    }
   ],
   "source": [
    "num_total = 0\n",
    "num_true = 0\n",
    "for x_test, y_test in zip(test_loader_x, test_loader_y):\n",
    "    with torch.no_grad():\n",
    "        x_test = x_test.to(model.device)\n",
    "        y_test = y_test.to(model.device)\n",
    "        y_pred = model.forward(x_test)\n",
    "        close = np.isclose(y_pred.cpu(), y_test.cpu(), rtol=0.05)\n",
    "        num_true += sum(np.alltrue(close, axis=1))\n",
    "        num_total += close.shape[0]\n",
    "        \n",
    "print(\"Correct:\", num_true)\n",
    "print(\"Total:\", num_total)\n",
    "print(\"Accuracy:\", num_true / num_total)\n",
    "\n"
   ]
  },
  {
   "cell_type": "markdown",
   "metadata": {},
   "source": [
    "## Re-initialize the data-loaders"
   ]
  },
  {
   "cell_type": "code",
   "execution_count": 87,
   "metadata": {},
   "outputs": [],
   "source": [
    "with open(\"PBM_simulation_data.pickle\", \"rb\") as handle:\n",
    "    data = pickle.load(handle)\n",
    "\n",
    "data = data.reshape((-1, 13))\n",
    "data /= np.mean(data.numpy(), axis=0) # Zero-mean data\n",
    "X = data[:-1]\n",
    "y = data[1:, :num_states]\n",
    "\n",
    "X_train, X_test, y_train, y_test = train_test_split(X, y, train_size=0.75, shuffle=True)\n",
    "\n",
    "train_loader_x = iter(torch.utils.data.DataLoader(\n",
    "    X_train, batch_size=batch_size, shuffle=False, num_workers=2\n",
    "))\n",
    "train_loader_y = iter(torch.utils.data.DataLoader(\n",
    "    y_train, batch_size=batch_size, shuffle=False, num_workers=2\n",
    "))\n",
    "test_loader_x = iter(torch.utils.data.DataLoader(\n",
    "    X_test, batch_size=batch_size, shuffle=False, num_workers=2\n",
    "))\n",
    "test_loader_y = iter(torch.utils.data.DataLoader(\n",
    "    y_test, batch_size=batch_size, shuffle=False, num_workers=2\n",
    "))"
   ]
  },
  {
   "cell_type": "markdown",
   "metadata": {},
   "source": [
    "## Turn on regularization\n",
    "\n",
    "Using weight decay with `lambda=1e-4` in the Adam optimizer"
   ]
  },
  {
   "cell_type": "code",
   "execution_count": 83,
   "metadata": {},
   "outputs": [],
   "source": [
    "model = Net(num_states, num_inputs)\n",
    "model.optimizer = torch.optim.Adam(model.parameters(), lr=1e-3, weight_decay=1e-4)"
   ]
  },
  {
   "cell_type": "markdown",
   "metadata": {},
   "source": [
    "## Train again"
   ]
  },
  {
   "cell_type": "code",
   "execution_count": 84,
   "metadata": {},
   "outputs": [],
   "source": [
    "epochs = 100000\n",
    "model = Net(num_states, num_inputs)\n",
    "losses = []\n",
    "\n",
    "for epoch in range(epochs):\n",
    "    x = train_loader_x.next().to(model.device)\n",
    "    y = train_loader_y.next().to(model.device)\n",
    "    \n",
    "    pred = model.forward(x)\n",
    "    loss = nn.functional.mse_loss(pred, y)\n",
    "    model.optimizer.zero_grad()\n",
    "    loss.backward()\n",
    "    model.optimizer.step()\n",
    "    losses.append(float(loss.cpu().detach().numpy()))"
   ]
  },
  {
   "cell_type": "code",
   "execution_count": 85,
   "metadata": {},
   "outputs": [
    {
     "data": {
      "text/plain": [
       "(0.0, 5.0)"
      ]
     },
     "execution_count": 85,
     "metadata": {},
     "output_type": "execute_result"
    },
    {
     "data": {
      "image/png": "[encoded data removed]",
      "text/plain": [
       "<Figure size 640x480 with 1 Axes>"
      ]
     },
     "metadata": {},
     "output_type": "display_data"
    }
   ],
   "source": [
    "plt.figure(\"Loss\")\n",
    "plt.plot(range(len(losses)), losses)\n",
    "plt.title(\"Loss\")\n",
    "plt.ylim((0, 5))"
   ]
  },
  {
   "cell_type": "markdown",
   "metadata": {},
   "source": [
    "## Test again"
   ]
  },
  {
   "cell_type": "code",
   "execution_count": 88,
   "metadata": {},
   "outputs": [
    {
     "name": "stdout",
     "output_type": "stream",
     "text": [
      "Correct: 63834\n",
      "Total: 250000\n",
      "Accuracy: 0.255336\n"
     ]
    }
   ],
   "source": [
    "num_total = 0\n",
    "num_true = 0\n",
    "for x_test, y_test in zip(test_loader_x, test_loader_y):\n",
    "    with torch.no_grad():\n",
    "        x_test = x_test.to(model.device)\n",
    "        y_test = y_test.to(model.device)\n",
    "        y_pred = model.forward(x_test)\n",
    "        close = np.isclose(y_pred.cpu(), y_test.cpu(), rtol=0.01)\n",
    "        num_true += sum(np.alltrue(close, axis=1))\n",
    "        num_total += close.shape[0]\n",
    "        \n",
    "print(\"Correct:\", num_true)\n",
    "print(\"Total:\", num_total)\n",
    "print(\"Accuracy:\", num_true / num_total)"
   ]
  }
 ],
 "metadata": {
  "kernelspec": {
   "display_name": "Python 3.10.4 ('ttk29')",
   "language": "python",
   "name": "python3"
  },
  "language_info": {
   "codemirror_mode": {
    "name": "ipython",
    "version": 3
   },
   "file_extension": ".py",
   "mimetype": "text/x-python",
   "name": "python",
   "nbconvert_exporter": "python",
   "pygments_lexer": "ipython3",
   "version": "3.10.4"
  },
  "orig_nbformat": 4,
  "vscode": {
   "interpreter": {
    "hash": "fa12f1c5fce7cb85c3daf63904d751a59a8e46191f03adc865b62b15fe3fd495"
   }
  }
 },
 "nbformat": 4,
 "nbformat_minor": 2
}
